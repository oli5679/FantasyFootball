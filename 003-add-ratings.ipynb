{
 "cells": [
  {
   "cell_type": "code",
   "execution_count": 2,
   "id": "555c5c69-66c4-44ab-83aa-7ed643a3a11f",
   "metadata": {},
   "outputs": [],
   "source": [
    "import pandas as pd\n",
    "import numpy as np\n",
    "from src.utils.elo import Elo"
   ]
  },
  {
   "cell_type": "markdown",
   "id": "b3b8f336-0f88-4d2b-9bbe-9dadb92972a8",
   "metadata": {},
   "source": [
    "## WIP - I want to calculate ELO ratings and add these as a a features into gameweek data"
   ]
  },
  {
   "cell_type": "code",
   "execution_count": 3,
   "id": "73dabfbe-8e7b-4c41-8388-6a3179e4daff",
   "metadata": {},
   "outputs": [
    {
     "name": "stderr",
     "output_type": "stream",
     "text": [
      "/opt/homebrew/Caskroom/miniconda/base/envs/ravelin36/lib/python3.6/site-packages/IPython/core/interactiveshell.py:3072: DtypeWarning: Columns (25,57,58) have mixed types.Specify dtype option on import or set low_memory=False.\n",
      "  interactivity=interactivity, compiler=compiler, result=result)\n"
     ]
    }
   ],
   "source": [
    "gameweek_df = pd.read_csv('data/processed/combined_gameweeks.csv')"
   ]
  },
  {
   "cell_type": "code",
   "execution_count": 23,
   "id": "484c23d0-11ed-4b16-b285-7abeed80d3f2",
   "metadata": {},
   "outputs": [],
   "source": [
    "teams = pd.read_csv(f'data/Fantasy-Premier-League/data/master_team_list.csv').rename(columns={'team':'opponent_team','team_name':'opponent_name'})\n",
    "\n",
    "with_opponents = gameweek_df.merge(teams,on=['season','opponent_team'],how='left')\n",
    "\n",
    "fixtures = with_opponents[['team','opponent_name','season','gw','team_h_score','team_a_score', 'was_home']].loc[with_opponents.team.notna()].drop_duplicates().copy()\n",
    "\n",
    "fixtures['opp_team'] = 'opp_' + fixtures.opponent_name # so we can merge and update\n",
    "\n",
    "fixtures['home_outcome'] =(np.clip(fixtures['team_h_score'] -fixtures['team_a_score'],-1,1) + 1) / 2\n",
    "\n",
    "fixtures['outcome'] = np.where(fixtures.was_home, fixtures.home_outcome, 1-fixtures.home_outcome) # there must be a simpler way\n",
    "\n",
    "elo =Elo(fixtures,k_factor=20, team_h='team',team_a='opp_team')\n",
    "historic_elo, elo_ratings =elo.process_all_fixtures()\n",
    "\n",
    "historic_elo[['team', 'season', 'gw','elo_e']]"
   ]
  },
  {
   "cell_type": "code",
   "execution_count": 20,
   "id": "9b19ea54-9fdc-4d3a-8ab9-2bfe10c83fec",
   "metadata": {},
   "outputs": [
    {
     "data": {
      "text/plain": [
       "Man City              1351.724294\n",
       "opp_Man City          1351.594701\n",
       "opp_Chelsea           1316.792520\n",
       "Chelsea               1316.360430\n",
       "Liverpool             1309.572778\n",
       "opp_Liverpool         1309.099231\n",
       "opp_West Ham          1274.154114\n",
       "West Ham              1274.026227\n",
       "opp_Man Utd           1267.280718\n",
       "Man Utd               1266.626007\n",
       "opp_Arsenal           1258.882917\n",
       "Arsenal               1258.857611\n",
       "Spurs                 1233.906867\n",
       "opp_Spurs             1233.660111\n",
       "opp_Leicester         1224.651170\n",
       "Leicester             1224.498526\n",
       "Leeds                 1200.259701\n",
       "opp_Leeds             1200.195909\n",
       "opp_Everton           1198.083824\n",
       "Everton               1197.901629\n",
       "Wolves                1188.067737\n",
       "opp_Wolves            1188.007969\n",
       "Crystal Palace        1187.337366\n",
       "opp_Crystal Palace    1187.254727\n",
       "Brighton              1186.001063\n",
       "opp_Brighton          1185.973330\n",
       "opp_Aston Villa       1182.043647\n",
       "Aston Villa           1181.254954\n",
       "Brentford             1178.518200\n",
       "opp_Brentford         1178.494699\n",
       "Watford               1177.778916\n",
       "opp_Watford           1177.751531\n",
       "opp_Norwich           1158.661611\n",
       "Norwich               1158.654859\n",
       "Southampton           1154.141982\n",
       "opp_Southampton       1154.096082\n",
       "opp_Newcastle         1137.514270\n",
       "Newcastle             1137.467085\n",
       "Burnley               1132.991209\n",
       "opp_Burnley           1132.721399\n",
       "opp_Fulham            1105.972654\n",
       "Fulham                1105.581830\n",
       "opp_West Brom         1099.584430\n",
       "West Brom             1099.165717\n",
       "Sheffield Utd         1078.467247\n",
       "opp_Sheffield Utd     1078.366203\n",
       "dtype: float64"
      ]
     },
     "execution_count": 20,
     "metadata": {},
     "output_type": "execute_result"
    }
   ],
   "source": [
    "pd.Series(elo_ratings).sort_values(ascending=False)"
   ]
  },
  {
   "cell_type": "code",
   "execution_count": null,
   "id": "3a842547-9f68-45de-b1a8-9dd3614c8f02",
   "metadata": {},
   "outputs": [],
   "source": []
  }
 ],
 "metadata": {
  "kernelspec": {
   "display_name": "Python 3",
   "language": "python",
   "name": "python3"
  },
  "language_info": {
   "codemirror_mode": {
    "name": "ipython",
    "version": 3
   },
   "file_extension": ".py",
   "mimetype": "text/x-python",
   "name": "python",
   "nbconvert_exporter": "python",
   "pygments_lexer": "ipython3",
   "version": "3.6.10"
  }
 },
 "nbformat": 4,
 "nbformat_minor": 5
}

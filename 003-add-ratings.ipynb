{
 "cells": [
  {
   "cell_type": "code",
   "execution_count": 1,
   "id": "555c5c69-66c4-44ab-83aa-7ed643a3a11f",
   "metadata": {},
   "outputs": [],
   "source": [
    "import pandas as pd\n",
    "import numpy as np\n",
    "from src.utils.elo import Elo"
   ]
  },
  {
   "cell_type": "markdown",
   "id": "b3b8f336-0f88-4d2b-9bbe-9dadb92972a8",
   "metadata": {},
   "source": [
    "## WIP - I want to calculate ELO ratings and add these as a a features into gameweek data"
   ]
  },
  {
   "cell_type": "code",
   "execution_count": 29,
   "id": "73dabfbe-8e7b-4c41-8388-6a3179e4daff",
   "metadata": {},
   "outputs": [
    {
     "name": "stderr",
     "output_type": "stream",
     "text": [
      "/opt/homebrew/Caskroom/miniconda/base/envs/ravelin36/lib/python3.6/site-packages/IPython/core/interactiveshell.py:3072: DtypeWarning: Columns (25,57,58) have mixed types.Specify dtype option on import or set low_memory=False.\n",
      "  interactivity=interactivity, compiler=compiler, result=result)\n"
     ]
    }
   ],
   "source": [
    "gameweek_df = pd.read_csv('data/processed/combined_gameweeks.csv')"
   ]
  },
  {
   "cell_type": "code",
   "execution_count": 30,
   "id": "e1075883-81ba-46f6-a33c-e622fc082571",
   "metadata": {},
   "outputs": [
    {
     "data": {
      "text/plain": [
       "2312"
      ]
     },
     "execution_count": 30,
     "metadata": {},
     "output_type": "execute_result"
    }
   ],
   "source": [
    "len(gameweek_df.drop_duplicates(subset=['team', 'opponent_team','gw', 'season']))"
   ]
  },
  {
   "cell_type": "code",
   "execution_count": 31,
   "id": "85d857fc-eed1-4b7b-97f9-eb88ef912822",
   "metadata": {},
   "outputs": [
    {
     "data": {
      "text/plain": [
       "1023"
      ]
     },
     "execution_count": 31,
     "metadata": {},
     "output_type": "execute_result"
    }
   ],
   "source": [
    "len(gameweek_df.drop_duplicates(subset=['team','gw', 'season']))"
   ]
  },
  {
   "cell_type": "code",
   "execution_count": 38,
   "id": "838bbfdc-3cd5-481b-aca1-061e54e71014",
   "metadata": {},
   "outputs": [],
   "source": [
    "gameweek_dedup = gameweek_df.groupby(['team','gw','season','opponent_team'],as_index=False).agg({'name':'count',\n",
    "                                                            'team_h_score':'first',\n",
    "                                                            'team_a_score':'first', \n",
    "                                                            'was_home':'first'}).sort_values(by=['opponent_team',\n",
    "                                                                                                 'season',\n",
    "                                                                                                 'gw',\n",
    "                                                                                                 'name']).drop_duplicates(subset=['opponent_team','season','gw'],keep='last')"
   ]
  },
  {
   "cell_type": "code",
   "execution_count": 43,
   "id": "98931205-f646-4fcd-bef4-0a6547d4b748",
   "metadata": {},
   "outputs": [
    {
     "data": {
      "text/plain": [
       "956"
      ]
     },
     "execution_count": 43,
     "metadata": {},
     "output_type": "execute_result"
    }
   ],
   "source": [
    "len(gameweek_dedup)"
   ]
  },
  {
   "cell_type": "code",
   "execution_count": 45,
   "id": "93fcf0df-c638-4d5f-a7d7-92bbd22b6512",
   "metadata": {},
   "outputs": [],
   "source": []
  },
  {
   "cell_type": "code",
   "execution_count": 10,
   "id": "46096360-4c25-458a-b87c-7f177f266a7a",
   "metadata": {},
   "outputs": [
    {
     "data": {
      "text/plain": [
       "gw              1\n",
       "season    2020-21\n",
       "team      Arsenal\n",
       "name           23\n",
       "dtype: object"
      ]
     },
     "execution_count": 10,
     "metadata": {},
     "output_type": "execute_result"
    }
   ],
   "source": [
    "gameweek_df.groupby(['gw','season','team'], as_index=False)['name'].count().min()"
   ]
  },
  {
   "cell_type": "code",
   "execution_count": null,
   "id": "484c23d0-11ed-4b16-b285-7abeed80d3f2",
   "metadata": {},
   "outputs": [],
   "source": [
    "teams = pd.read_csv(f'data/Fantasy-Premier-League/data/master_team_list.csv').rename(columns={'team':'opponent_team','team_name':'opponent_name'})\n",
    "\n",
    "with_opponents = gameweek_df.merge(teams,on=['season','opponent_team'],how='left')\n",
    "\n",
    "fixtures = with_opponents[['team','opponent_name','season','gw','team_h_score','team_a_score', 'was_home']].loc[with_opponents.team.notna()].drop_duplicates().copy()\n",
    "\n",
    "fixtures['opp_team'] = 'opp_' + fixtures.opponent_name # so we can merge and update\n",
    "\n",
    "fixtures['home_outcome'] =(np.clip(fixtures['team_h_score'] -fixtures['team_a_score'],-1,1) + 1) / 2\n",
    "\n",
    "fixtures['outcome'] = np.where(fixtures.was_home, fixtures.home_outcome, 1-fixtures.home_outcome) # there must be a simpler way\n",
    "\n",
    "elo =Elo(fixtures,k_factor=20, team_h='team',team_a='opp_team')\n",
    "historic_elo, elo_ratings =elo.process_all_fixtures()\n",
    "\n",
    "historic_elo[['team', 'season', 'gw','elo_e']]"
   ]
  },
  {
   "cell_type": "code",
   "execution_count": null,
   "id": "9b19ea54-9fdc-4d3a-8ab9-2bfe10c83fec",
   "metadata": {},
   "outputs": [],
   "source": [
    "pd.Series(elo_ratings).sort_values(ascending=False)"
   ]
  },
  {
   "cell_type": "code",
   "execution_count": null,
   "id": "3a842547-9f68-45de-b1a8-9dd3614c8f02",
   "metadata": {},
   "outputs": [],
   "source": []
  }
 ],
 "metadata": {
  "kernelspec": {
   "display_name": "Python 3",
   "language": "python",
   "name": "python3"
  },
  "language_info": {
   "codemirror_mode": {
    "name": "ipython",
    "version": 3
   },
   "file_extension": ".py",
   "mimetype": "text/x-python",
   "name": "python",
   "nbconvert_exporter": "python",
   "pygments_lexer": "ipython3",
   "version": "3.6.10"
  }
 },
 "nbformat": 4,
 "nbformat_minor": 5
}

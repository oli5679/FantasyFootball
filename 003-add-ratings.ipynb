{
 "cells": [
  {
   "cell_type": "code",
   "execution_count": 1,
   "id": "555c5c69-66c4-44ab-83aa-7ed643a3a11f",
   "metadata": {},
   "outputs": [],
   "source": [
    "import pandas as pd"
   ]
  },
  {
   "cell_type": "markdown",
   "id": "b3b8f336-0f88-4d2b-9bbe-9dadb92972a8",
   "metadata": {},
   "source": [
    "## WIP - I want to calculate ELO ratings and add these as a a features into gameweek data"
   ]
  },
  {
   "cell_type": "code",
   "execution_count": 20,
   "id": "73dabfbe-8e7b-4c41-8388-6a3179e4daff",
   "metadata": {},
   "outputs": [
    {
     "name": "stderr",
     "output_type": "stream",
     "text": [
      "/opt/homebrew/Caskroom/miniconda/base/envs/ravelin36/lib/python3.6/site-packages/IPython/core/interactiveshell.py:3072: DtypeWarning: Columns (25,57,58) have mixed types.Specify dtype option on import or set low_memory=False.\n",
      "  interactivity=interactivity, compiler=compiler, result=result)\n"
     ]
    }
   ],
   "source": [
    "gameweek_df = pd.read_csv('data/processed/combined_gameweeks.csv')"
   ]
  },
  {
   "cell_type": "code",
   "execution_count": 21,
   "id": "c8c5b9e7-f651-45c5-b187-1bce84f9663d",
   "metadata": {},
   "outputs": [
    {
     "data": {
      "text/plain": [
       "['opponent_team', 'team_a_score', 'team_h_score', 'team']"
      ]
     },
     "execution_count": 21,
     "metadata": {},
     "output_type": "execute_result"
    }
   ],
   "source": [
    "[c for c in gameweek_df.columns if 'team' in c]"
   ]
  },
  {
   "cell_type": "markdown",
   "id": "2bb71273-8210-4639-a3a4-cb95adffd995",
   "metadata": {},
   "source": [
    "for now let's just use more recent seasons with team info"
   ]
  },
  {
   "cell_type": "code",
   "execution_count": null,
   "id": "28bcc5dd-d00c-475a-a21c-76de267fea09",
   "metadata": {},
   "outputs": [],
   "source": []
  }
 ],
 "metadata": {
  "kernelspec": {
   "display_name": "Python 3",
   "language": "python",
   "name": "python3"
  },
  "language_info": {
   "codemirror_mode": {
    "name": "ipython",
    "version": 3
   },
   "file_extension": ".py",
   "mimetype": "text/x-python",
   "name": "python",
   "nbconvert_exporter": "python",
   "pygments_lexer": "ipython3",
   "version": "3.6.10"
  }
 },
 "nbformat": 4,
 "nbformat_minor": 5
}

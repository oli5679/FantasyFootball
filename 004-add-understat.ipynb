{
 "cells": [
  {
   "cell_type": "code",
   "execution_count": 2,
   "id": "af6b1b91-5ab7-49ca-9ce9-9d69027936fa",
   "metadata": {},
   "outputs": [],
   "source": [
    "import pandas as pd"
   ]
  },
  {
   "cell_type": "code",
   "execution_count": 3,
   "id": "bf704e66-88dc-4c3e-ac38-9510e80b6952",
   "metadata": {},
   "outputs": [
    {
     "name": "stderr",
     "output_type": "stream",
     "text": [
      "/opt/homebrew/Caskroom/miniconda/base/envs/ravelin36/lib/python3.6/site-packages/IPython/core/interactiveshell.py:3072: DtypeWarning: Columns (25,57,58) have mixed types.Specify dtype option on import or set low_memory=False.\n",
      "  interactivity=interactivity, compiler=compiler, result=result)\n"
     ]
    }
   ],
   "source": [
    "gameweek_df = pd.read_csv('data/processed/combined_gameweeks.csv')"
   ]
  },
  {
   "cell_type": "code",
   "execution_count": 5,
   "id": "2076f4f7-9ab4-417e-a288-e935438393bb",
   "metadata": {},
   "outputs": [],
   "source": [
    "path = 'data/Fantasy-Premier-League/data/2021-22/understat'"
   ]
  },
  {
   "cell_type": "code",
   "execution_count": null,
   "id": "d19ad7fb-7b68-4369-8d39-2f9a3a077b94",
   "metadata": {},
   "outputs": [],
   "source": []
  }
 ],
 "metadata": {
  "kernelspec": {
   "display_name": "Python 3",
   "language": "python",
   "name": "python3"
  },
  "language_info": {
   "codemirror_mode": {
    "name": "ipython",
    "version": 3
   },
   "file_extension": ".py",
   "mimetype": "text/x-python",
   "name": "python",
   "nbconvert_exporter": "python",
   "pygments_lexer": "ipython3",
   "version": "3.6.10"
  }
 },
 "nbformat": 4,
 "nbformat_minor": 5
}

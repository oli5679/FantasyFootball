{
 "cells": [
  {
   "cell_type": "markdown",
   "id": "1a36f52c-c597-4c8b-bf77-11253888fafe",
   "metadata": {},
   "source": [
    "# Fixture Modelling"
   ]
  },
  {
   "cell_type": "markdown",
   "id": "97493812-4735-4a66-90fd-cc6e7a657b62",
   "metadata": {},
   "source": [
    "How many goals are PL teams to score and concede in upcoming fixtures?"
   ]
  },
  {
   "cell_type": "markdown",
   "id": "2b887544-d9c8-4659-aa27-b36e2cccc784",
   "metadata": {},
   "source": [
    "See here for some more technical details http://web.math.ku.dk/~rolf/teaching/thesis/DixonColes.pdf"
   ]
  },
  {
   "cell_type": "markdown",
   "id": "1b781433-a00d-4556-96f9-9f8a006f50c1",
   "metadata": {
    "tags": []
   },
   "source": [
    "## Setup"
   ]
  },
  {
   "cell_type": "code",
   "execution_count": 1,
   "id": "b2f48251-0ae8-49ed-9966-91a3ea972ed1",
   "metadata": {},
   "outputs": [],
   "source": [
    "import pandas as pd\n",
    "from datetime import timezone\n",
    "import numpy as np\n",
    "import scipy.stats\n",
    "import scipy.optimize\n",
    "import seaborn as sns"
   ]
  },
  {
   "cell_type": "code",
   "execution_count": 2,
   "id": "4b96467c-847c-4a58-9aae-79005c9d8eb7",
   "metadata": {},
   "outputs": [],
   "source": [
    "from src.utils.elo import Elo"
   ]
  },
  {
   "cell_type": "code",
   "execution_count": 7,
   "id": "4b13f5fe-5066-4930-ac5c-6ddbd305d77e",
   "metadata": {},
   "outputs": [],
   "source": [
    "!ls data/Fantasy-Premier-League"
   ]
  },
  {
   "cell_type": "code",
   "execution_count": 3,
   "id": "f7e95f6f-4eba-4c0e-8501-8c116ea5c3b7",
   "metadata": {},
   "outputs": [
    {
     "name": "stdout",
     "output_type": "stream",
     "text": [
      "Already up to date.\n"
     ]
    }
   ],
   "source": [
    "!cd data/Fantasy-Premier-League && git pull # pull latest data"
   ]
  },
  {
   "cell_type": "markdown",
   "id": "dd41ffe2-8edf-4dae-853a-f5433a860559",
   "metadata": {},
   "source": [
    "## Load data"
   ]
  },
  {
   "cell_type": "code",
   "execution_count": 4,
   "id": "c0e069ff-ed2a-4697-9da3-c6dcef5f0dcc",
   "metadata": {},
   "outputs": [],
   "source": [
    "SEASONS = ['2018-19' ,'2019-20','2020-21', '2021-22',]"
   ]
  },
  {
   "cell_type": "code",
   "execution_count": 5,
   "id": "8d1bff9a-41ea-4d3e-8672-0ed91d6291f1",
   "metadata": {},
   "outputs": [],
   "source": [
    "BASE = 'data/Fantasy-Premier-League'"
   ]
  },
  {
   "cell_type": "code",
   "execution_count": 8,
   "id": "704b0225-12fa-4e0d-b423-0eddfe5f5dc9",
   "metadata": {},
   "outputs": [],
   "source": [
    "combined = pd.DataFrame()\n",
    "for season in SEASONS:\n",
    "    df = pd.read_csv(f'{BASE}/data/{season}/fixtures.csv',parse_dates=['kickoff_time'])\n",
    "    df['season'] = season\n",
    "    combined = df.append(combined)"
   ]
  },
  {
   "cell_type": "code",
   "execution_count": 9,
   "id": "ae92bd85-55e0-4a53-ac31-b8367bd21cd0",
   "metadata": {},
   "outputs": [],
   "source": [
    "teams = pd.read_csv(f'{BASE}/data/master_team_list.csv')"
   ]
  },
  {
   "cell_type": "markdown",
   "id": "dd056877-3e0f-4153-8347-6febc511f77a",
   "metadata": {},
   "source": [
    "the numbers aren't consistent across seasons so we merge on names and come up with our own numbering"
   ]
  },
  {
   "cell_type": "code",
   "execution_count": 10,
   "id": "8ef03020-d1b8-48a0-82a8-82bb3b7130bc",
   "metadata": {},
   "outputs": [],
   "source": [
    "def clean_names(combined, teams):    \n",
    "    with_names = combined.copy()\n",
    "    for suff in ['_h','_a']:\n",
    "        with_names = with_names.merge(teams.rename(columns={'team':f\"team{suff}\",\n",
    "                                                            \"team_name\":f'team_name{suff}'}),on = ['season',f'team{suff}'],how='left')\n",
    "    unique_teams = list(set(with_names[\"team_name_h\"]))\n",
    "    name_mapping = dict(zip(unique_teams,range(len(unique_teams))))\n",
    "    with_names['team_h'] = with_names.team_name_h.map(name_mapping) \n",
    "    with_names['team_a'] = with_names.team_name_a.map(name_mapping)\n",
    "    with_names['days_since_fixture'] = (pd.Timestamp.utcnow() - with_names['kickoff_time']).dt.days\n",
    "    return with_names, name_mapping"
   ]
  },
  {
   "cell_type": "code",
   "execution_count": 11,
   "id": "5dc04386-091e-4b07-9174-0f7544e71b1e",
   "metadata": {},
   "outputs": [],
   "source": [
    "df, name_mapping = clean_names(combined, teams)"
   ]
  },
  {
   "cell_type": "code",
   "execution_count": 12,
   "id": "5876b11e-2510-47ab-b3d8-f538f22a5e51",
   "metadata": {},
   "outputs": [],
   "source": [
    "COLS = ['team_h','team_a','days_since_fixture','team_h_score','team_a_score']"
   ]
  },
  {
   "cell_type": "code",
   "execution_count": 13,
   "id": "dbbc7f61-b274-4112-89af-291f91a74a21",
   "metadata": {},
   "outputs": [],
   "source": [
    "results = df.loc[(df.finished),COLS].copy()\n",
    "fixtures = df.loc[~df.finished,COLS].copy() "
   ]
  },
  {
   "cell_type": "code",
   "execution_count": 14,
   "id": "a7abe9a7-e989-49f8-a513-325e6ba390ee",
   "metadata": {},
   "outputs": [],
   "source": [
    "assert df['team_name_h'].isna().sum() == 0"
   ]
  },
  {
   "cell_type": "markdown",
   "id": "c9b52a00-4fe0-487f-ac90-1e7dbefc2b0d",
   "metadata": {
    "tags": []
   },
   "source": [
    "## Fit model - (1) Dixon-Coles like"
   ]
  },
  {
   "cell_type": "markdown",
   "id": "6f1a38c2-876b-4f06-8d8f-4a05fe71e6d8",
   "metadata": {},
   "source": [
    "We model a game with home/away score (x,y) as being\n",
    "\n",
    "$\\lambda_h = exp(\\mu + \\gamma + \\alpha_{ha} - \\alpha_{ad})$\n",
    "\n",
    "$\\lambda_a = exp(\\gamma + \\alpha_{aa} - \\alpha_{hd})$\n",
    "\n",
    "$p(x,y) = \\frac{exp(-\\lambda_h)(\\lambda_h)^x}{x!} \\frac{exp(-\\lambda_a)(\\lambda_a)^y}{y!}$\n",
    "\n",
    "Each team has a coefficient for attacking/defending, and there is a fixed effect $\\gamma$ and a home-team fixed effect $\\mu$. "
   ]
  },
  {
   "cell_type": "code",
   "execution_count": 15,
   "id": "021b60d8-49b6-4274-8b5e-c37b8fd6fde3",
   "metadata": {},
   "outputs": [],
   "source": [
    "def neg_log_likehihood(params, df, discount, n_teams):\n",
    "    '''\n",
    "    Based on model above, sum the negative log likelihood, discounted by time\n",
    "    '''\n",
    "    mu, gamma, *alpha  = params\n",
    "    alpha_score = alpha[:n_teams]\n",
    "    alpha_concede = alpha[n_teams:]\n",
    "    home = mu +gamma + np.take(alpha_score,df.team_h) - np.take(alpha_concede,df.team_a)\n",
    "    away = gamma + np.take(alpha_score,df.team_a) - np.take(alpha_concede,df.team_h)\n",
    "    exp_home = np.exp(home)\n",
    "    exp_away = np.exp(away)\n",
    "    neg_log_lik = exp_home - (df[\"team_h_score\"] * home) + exp_away - (df[\"team_a_score\"] * away)\n",
    "    loss = (np.exp(-discount * df[\"days_since_fixture\"]) * neg_log_lik).sum()\n",
    "    return loss / df.shape[0]"
   ]
  },
  {
   "cell_type": "code",
   "execution_count": 16,
   "id": "31f21c86-ec27-43d8-baf7-af32e88ced0f",
   "metadata": {},
   "outputs": [],
   "source": [
    "class DixonColes():\n",
    "    def __init__(self, name_mapping, discount = 0.01):\n",
    "        self.name_mapping = name_mapping\n",
    "        self.n_teams = len(name_mapping)\n",
    "        self.discount = discount \n",
    "        self.params = [0.0 for _ in range(2 + (2*self.n_teams))]\n",
    "    \n",
    "    def fit(self, X): \n",
    "        '''\n",
    "        Minimise negative log-likelihood\n",
    "        '''\n",
    "        res = scipy.optimize.minimize(\n",
    "            fun=neg_log_likehihood,\n",
    "            x0=self.params,\n",
    "            args=(X, self.discount, self.n_teams),\n",
    "        )\n",
    "        mu, gamma, *alpha = res['x']\n",
    "        alpha_score = alpha[:self.n_teams]\n",
    "        alpha_concede = alpha[self.n_teams:]\n",
    "        return mu, gamma, alpha_score, alpha_concede\n",
    "        \n"
   ]
  },
  {
   "cell_type": "code",
   "execution_count": 17,
   "id": "3a85136e-a3db-4ac3-b0b6-0cbe632e8fbf",
   "metadata": {},
   "outputs": [],
   "source": [
    "mu, gamma, alpha_score, alpha_concede =  DixonColes(name_mapping).fit(results)"
   ]
  },
  {
   "cell_type": "code",
   "execution_count": 18,
   "id": "49c9b01b-6696-493d-81ab-acd3dcf9ccfd",
   "metadata": {},
   "outputs": [
    {
     "data": {
      "text/plain": [
       "0.008231588778383524"
      ]
     },
     "execution_count": 18,
     "metadata": {},
     "output_type": "execute_result"
    }
   ],
   "source": [
    "mu"
   ]
  },
  {
   "cell_type": "code",
   "execution_count": 19,
   "id": "f93895a8-8682-43b8-a095-fcc60c9e83c6",
   "metadata": {},
   "outputs": [],
   "source": [
    "form = pd.DataFrame(data=[name_mapping.keys(),alpha_score, alpha_concede]).T\n",
    "form.columns = ['team', 'attack','defence']"
   ]
  },
  {
   "cell_type": "code",
   "execution_count": 20,
   "id": "8e32482d-0835-448d-af2a-b37547356c86",
   "metadata": {},
   "outputs": [],
   "source": [
    "form['total'] = form.attack + form.defence"
   ]
  },
  {
   "cell_type": "markdown",
   "id": "e10515e8-c604-4505-bf3e-196aa83fec4e",
   "metadata": {},
   "source": [
    "This seams like a reasonable form ranking. I think the model is overrating Brentford a bit having never seen them before."
   ]
  },
  {
   "cell_type": "code",
   "execution_count": null,
   "id": "da460942-16de-4b1a-b5bf-756186b3e728",
   "metadata": {},
   "outputs": [],
   "source": [
    "(form\n",
    " .iloc[list(set(fixtures.team_h))]\n",
    " .sort_values(by='total',ascending=False))"
   ]
  },
  {
   "cell_type": "markdown",
   "id": "7fdcbfaf-675f-4ba3-b088-48862651fe80",
   "metadata": {},
   "source": [
    "## Fit Model (2) - ELO"
   ]
  },
  {
   "cell_type": "code",
   "execution_count": 23,
   "id": "4b8491e7-c177-4c07-af1c-ac6206dad8f6",
   "metadata": {},
   "outputs": [],
   "source": [
    "results['outcome'] =(np.clip(results['team_h_score'] -results['team_a_score'],-1,1) + 1) / 2"
   ]
  },
  {
   "cell_type": "code",
   "execution_count": 24,
   "id": "38fef2a1-8d8e-4dad-a4be-2e75d5051dab",
   "metadata": {},
   "outputs": [],
   "source": [
    "results = results.sort_values(by='days_since_fixture',ascending=False)"
   ]
  },
  {
   "cell_type": "code",
   "execution_count": null,
   "id": "33133aae-4ab4-437a-9fd8-fca55e8476ad",
   "metadata": {},
   "outputs": [],
   "source": [
    "elo =Elo(results,k_factor=35)\n",
    "historic_elo, elo_ratings =elo.process_all_fixtures()"
   ]
  },
  {
   "cell_type": "markdown",
   "id": "33a0232a-f4c5-4f43-b7a7-d31327a47534",
   "metadata": {},
   "source": [
    "## Plot elo over time"
   ]
  },
  {
   "cell_type": "code",
   "execution_count": 27,
   "id": "86970c4d-e306-4726-be33-117deabe7410",
   "metadata": {},
   "outputs": [],
   "source": [
    "inv_mapping = {v:k for k,v in name_mapping.items()}"
   ]
  },
  {
   "cell_type": "code",
   "execution_count": 28,
   "id": "20df0683-a536-4cea-9421-74c6997a64b1",
   "metadata": {},
   "outputs": [],
   "source": [
    "historic_elo['name'] = historic_elo.team_h.map(inv_mapping)"
   ]
  },
  {
   "cell_type": "code",
   "execution_count": 29,
   "id": "268e2bc2-00ec-4c4d-a717-fe6211a26de5",
   "metadata": {},
   "outputs": [],
   "source": [
    "historic_elo['neg_days_since_fixture'] = historic_elo['days_since_fixture'] * -1"
   ]
  },
  {
   "cell_type": "code",
   "execution_count": 30,
   "id": "1ae16001-372e-4439-8c9e-16d95e03618f",
   "metadata": {},
   "outputs": [],
   "source": [
    "filtered = historic_elo.loc[historic_elo.name.isin(['Chelsea', 'Man City', 'Liverpool','West Ham', 'Man Utd'])]"
   ]
  },
  {
   "cell_type": "code",
   "execution_count": 31,
   "id": "ba92a961-ef92-413f-913b-3297aaa37157",
   "metadata": {},
   "outputs": [
    {
     "data": {
      "text/plain": [
       "<AxesSubplot:xlabel='neg_days_since_fixture', ylabel='elo'>"
      ]
     },
     "execution_count": 31,
     "metadata": {},
     "output_type": "execute_result"
    },
    {
     "data": {
      "image/png": "[encoded data removed]",
      "text/plain": [
       "<Figure size 432x288 with 1 Axes>"
      ]
     },
     "metadata": {
      "needs_background": "light"
     },
     "output_type": "display_data"
    }
   ],
   "source": [
    "sns.lineplot(data=filtered, hue='name', y='elo', x='neg_days_since_fixture')"
   ]
  },
  {
   "cell_type": "code",
   "execution_count": 32,
   "id": "bd35145c-3180-419f-9b7e-0da7cd71c445",
   "metadata": {},
   "outputs": [],
   "source": [
    "form['elo'] =pd.Series(elo_ratings).sort_index()"
   ]
  },
  {
   "cell_type": "code",
   "execution_count": 33,
   "id": "812be9c3-81b7-4735-b98e-f902a378d1a5",
   "metadata": {},
   "outputs": [
    {
     "data": {
      "text/html": [
       "<div>\n",
       "<style scoped>\n",
       "    .dataframe tbody tr th:only-of-type {\n",
       "        vertical-align: middle;\n",
       "    }\n",
       "\n",
       "    .dataframe tbody tr th {\n",
       "        vertical-align: top;\n",
       "    }\n",
       "\n",
       "    .dataframe thead th {\n",
       "        text-align: right;\n",
       "    }\n",
       "</style>\n",
       "<table border=\"1\" class=\"dataframe\">\n",
       "  <thead>\n",
       "    <tr style=\"text-align: right;\">\n",
       "      <th></th>\n",
       "      <th>team</th>\n",
       "      <th>attack</th>\n",
       "      <th>defence</th>\n",
       "      <th>total</th>\n",
       "      <th>elo</th>\n",
       "    </tr>\n",
       "  </thead>\n",
       "  <tbody>\n",
       "    <tr>\n",
       "      <th>18</th>\n",
       "      <td>Chelsea</td>\n",
       "      <td>0.624224</td>\n",
       "      <td>1.025208</td>\n",
       "      <td>1.649432</td>\n",
       "      <td>1396.549431</td>\n",
       "    </tr>\n",
       "    <tr>\n",
       "      <th>15</th>\n",
       "      <td>Liverpool</td>\n",
       "      <td>0.806599</td>\n",
       "      <td>0.417096</td>\n",
       "      <td>1.223695</td>\n",
       "      <td>1413.512958</td>\n",
       "    </tr>\n",
       "    <tr>\n",
       "      <th>14</th>\n",
       "      <td>Man City</td>\n",
       "      <td>0.596887</td>\n",
       "      <td>0.578773</td>\n",
       "      <td>1.175661</td>\n",
       "      <td>1425.061435</td>\n",
       "    </tr>\n",
       "    <tr>\n",
       "      <th>21</th>\n",
       "      <td>West Ham</td>\n",
       "      <td>0.3584</td>\n",
       "      <td>0.202121</td>\n",
       "      <td>0.560521</td>\n",
       "      <td>1329.357846</td>\n",
       "    </tr>\n",
       "    <tr>\n",
       "      <th>10</th>\n",
       "      <td>Arsenal</td>\n",
       "      <td>0.195603</td>\n",
       "      <td>0.234997</td>\n",
       "      <td>0.430601</td>\n",
       "      <td>1323.008556</td>\n",
       "    </tr>\n",
       "    <tr>\n",
       "      <th>9</th>\n",
       "      <td>Man Utd</td>\n",
       "      <td>0.374342</td>\n",
       "      <td>-0.04426</td>\n",
       "      <td>0.330082</td>\n",
       "      <td>1347.870564</td>\n",
       "    </tr>\n",
       "    <tr>\n",
       "      <th>20</th>\n",
       "      <td>Brentford</td>\n",
       "      <td>0.112791</td>\n",
       "      <td>0.130441</td>\n",
       "      <td>0.243232</td>\n",
       "      <td>1196.358666</td>\n",
       "    </tr>\n",
       "    <tr>\n",
       "      <th>19</th>\n",
       "      <td>Crystal Palace</td>\n",
       "      <td>0.162601</td>\n",
       "      <td>0.066452</td>\n",
       "      <td>0.229053</td>\n",
       "      <td>1212.711969</td>\n",
       "    </tr>\n",
       "    <tr>\n",
       "      <th>6</th>\n",
       "      <td>Leicester</td>\n",
       "      <td>0.357312</td>\n",
       "      <td>-0.204888</td>\n",
       "      <td>0.152425</td>\n",
       "      <td>1259.717940</td>\n",
       "    </tr>\n",
       "    <tr>\n",
       "      <th>12</th>\n",
       "      <td>Brighton</td>\n",
       "      <td>-0.129392</td>\n",
       "      <td>0.213145</td>\n",
       "      <td>0.083753</td>\n",
       "      <td>1231.361833</td>\n",
       "    </tr>\n",
       "    <tr>\n",
       "      <th>7</th>\n",
       "      <td>Wolves</td>\n",
       "      <td>-0.159801</td>\n",
       "      <td>0.120288</td>\n",
       "      <td>-0.039513</td>\n",
       "      <td>1221.484147</td>\n",
       "    </tr>\n",
       "    <tr>\n",
       "      <th>2</th>\n",
       "      <td>Spurs</td>\n",
       "      <td>0.007257</td>\n",
       "      <td>-0.098371</td>\n",
       "      <td>-0.091113</td>\n",
       "      <td>1259.227067</td>\n",
       "    </tr>\n",
       "    <tr>\n",
       "      <th>24</th>\n",
       "      <td>Aston Villa</td>\n",
       "      <td>0.147149</td>\n",
       "      <td>-0.262858</td>\n",
       "      <td>-0.115709</td>\n",
       "      <td>1193.178823</td>\n",
       "    </tr>\n",
       "    <tr>\n",
       "      <th>13</th>\n",
       "      <td>Southampton</td>\n",
       "      <td>-0.190283</td>\n",
       "      <td>0.043896</td>\n",
       "      <td>-0.146387</td>\n",
       "      <td>1174.522009</td>\n",
       "    </tr>\n",
       "    <tr>\n",
       "      <th>16</th>\n",
       "      <td>Leeds</td>\n",
       "      <td>-0.083365</td>\n",
       "      <td>-0.095255</td>\n",
       "      <td>-0.17862</td>\n",
       "      <td>1231.969519</td>\n",
       "    </tr>\n",
       "    <tr>\n",
       "      <th>22</th>\n",
       "      <td>Burnley</td>\n",
       "      <td>-0.085266</td>\n",
       "      <td>-0.138198</td>\n",
       "      <td>-0.223465</td>\n",
       "      <td>1131.727402</td>\n",
       "    </tr>\n",
       "    <tr>\n",
       "      <th>0</th>\n",
       "      <td>Everton</td>\n",
       "      <td>0.015318</td>\n",
       "      <td>-0.259583</td>\n",
       "      <td>-0.244266</td>\n",
       "      <td>1209.045595</td>\n",
       "    </tr>\n",
       "    <tr>\n",
       "      <th>17</th>\n",
       "      <td>Newcastle</td>\n",
       "      <td>0.013129</td>\n",
       "      <td>-0.384537</td>\n",
       "      <td>-0.371407</td>\n",
       "      <td>1134.350529</td>\n",
       "    </tr>\n",
       "    <tr>\n",
       "      <th>3</th>\n",
       "      <td>Watford</td>\n",
       "      <td>-0.061816</td>\n",
       "      <td>-0.402108</td>\n",
       "      <td>-0.463924</td>\n",
       "      <td>1105.324238</td>\n",
       "    </tr>\n",
       "    <tr>\n",
       "      <th>1</th>\n",
       "      <td>Norwich</td>\n",
       "      <td>-1.275272</td>\n",
       "      <td>-0.504777</td>\n",
       "      <td>-1.780049</td>\n",
       "      <td>979.090499</td>\n",
       "    </tr>\n",
       "  </tbody>\n",
       "</table>\n",
       "</div>"
      ],
      "text/plain": [
       "              team    attack   defence     total          elo\n",
       "18         Chelsea  0.624224  1.025208  1.649432  1396.549431\n",
       "15       Liverpool  0.806599  0.417096  1.223695  1413.512958\n",
       "14        Man City  0.596887  0.578773  1.175661  1425.061435\n",
       "21        West Ham    0.3584  0.202121  0.560521  1329.357846\n",
       "10         Arsenal  0.195603  0.234997  0.430601  1323.008556\n",
       "9          Man Utd  0.374342  -0.04426  0.330082  1347.870564\n",
       "20       Brentford  0.112791  0.130441  0.243232  1196.358666\n",
       "19  Crystal Palace  0.162601  0.066452  0.229053  1212.711969\n",
       "6        Leicester  0.357312 -0.204888  0.152425  1259.717940\n",
       "12        Brighton -0.129392  0.213145  0.083753  1231.361833\n",
       "7           Wolves -0.159801  0.120288 -0.039513  1221.484147\n",
       "2            Spurs  0.007257 -0.098371 -0.091113  1259.227067\n",
       "24     Aston Villa  0.147149 -0.262858 -0.115709  1193.178823\n",
       "13     Southampton -0.190283  0.043896 -0.146387  1174.522009\n",
       "16           Leeds -0.083365 -0.095255  -0.17862  1231.969519\n",
       "22         Burnley -0.085266 -0.138198 -0.223465  1131.727402\n",
       "0          Everton  0.015318 -0.259583 -0.244266  1209.045595\n",
       "17       Newcastle  0.013129 -0.384537 -0.371407  1134.350529\n",
       "3          Watford -0.061816 -0.402108 -0.463924  1105.324238\n",
       "1          Norwich -1.275272 -0.504777 -1.780049   979.090499"
      ]
     },
     "execution_count": 33,
     "metadata": {},
     "output_type": "execute_result"
    }
   ],
   "source": [
    "form.iloc[list(set(fixtures.team_h))].sort_values(by='total',ascending=False)\n"
   ]
  },
  {
   "cell_type": "markdown",
   "id": "942200d3-af96-4c38-8136-553303007b08",
   "metadata": {
    "tags": []
   },
   "source": [
    "## Map form onto fixtures"
   ]
  },
  {
   "cell_type": "code",
   "execution_count": 34,
   "id": "a60b798c-9a52-4706-8bf2-afaceef6dccb",
   "metadata": {},
   "outputs": [],
   "source": [
    "CURRENT_GAMEWEEK = ((df.season == df.season.max()) & (df.finished == True)).sum() // 10 "
   ]
  },
  {
   "cell_type": "markdown",
   "id": "9a1efb77-4a93-4cc8-8e9d-187829773775",
   "metadata": {},
   "source": [
    "map on the expected scoring rates"
   ]
  },
  {
   "cell_type": "code",
   "execution_count": 35,
   "id": "03e62478-7656-4208-8981-16944de13800",
   "metadata": {},
   "outputs": [],
   "source": [
    "fixtures['score'] = np.exp(mu +gamma + np.take(alpha_score,fixtures.team_h) - np.take(alpha_concede,fixtures.team_a))\n",
    "fixtures['opp_score'] = np.exp(gamma + np.take(alpha_score,fixtures.team_a) - np.take(alpha_concede,fixtures.team_h))"
   ]
  },
  {
   "cell_type": "code",
   "execution_count": 36,
   "id": "c56db18c-b463-48dd-a864-b761abb74fc5",
   "metadata": {},
   "outputs": [],
   "source": [
    "fixtures['elo_win'] =fixtures.apply(lambda row: elo.win_prob(row['team_h'],row['team_a']),axis=1)"
   ]
  },
  {
   "cell_type": "code",
   "execution_count": 37,
   "id": "2c10f2eb-c2fc-41ce-947a-c4c9211bf4c3",
   "metadata": {},
   "outputs": [],
   "source": [
    "fixtures['team'] = fixtures['team_h'].map(inv_mapping)\n",
    "fixtures['opp'] = fixtures['team_a'].map(inv_mapping)"
   ]
  },
  {
   "cell_type": "markdown",
   "id": "1d78e874-74f0-4d7f-bb2c-3277d605234e",
   "metadata": {},
   "source": [
    "We flip home and away fixtures to have all fixtures for all teams in long format"
   ]
  },
  {
   "cell_type": "code",
   "execution_count": 38,
   "id": "adabe144-e2be-46ef-9522-e8d1bd08592f",
   "metadata": {},
   "outputs": [],
   "source": [
    "upcoming_difficulties = fixtures[['team','opp','score','elo_win','opp_score','days_since_fixture']]"
   ]
  },
  {
   "cell_type": "code",
   "execution_count": 39,
   "id": "d4272cbf-3eb1-4fba-95a1-acb63b75ceeb",
   "metadata": {},
   "outputs": [],
   "source": [
    "flipped_difficulties = upcoming_difficulties.copy().rename(columns={'team':'opp',\n",
    "                                                                    'opp':'team',\n",
    "                                                                    'score':'opp_score',\n",
    "                                                                    'opp_score':'score',})\n",
    "flipped_difficulties['elo_win'] = 1 -flipped_difficulties['elo_win']"
   ]
  },
  {
   "cell_type": "code",
   "execution_count": 40,
   "id": "cc89c060-6eb4-4200-b93e-236e425c21c0",
   "metadata": {},
   "outputs": [],
   "source": [
    "assert (upcoming_difficulties.groupby('team')['opp'].count() + upcoming_difficulties.groupby('opp')['team'].count()).max() == 38 - CURRENT_GAMEWEEK"
   ]
  },
  {
   "cell_type": "code",
   "execution_count": 41,
   "id": "51d80d95-bff1-4c54-b72f-03e0983f01b1",
   "metadata": {},
   "outputs": [],
   "source": [
    "combined_difficulties = upcoming_difficulties.append(flipped_difficulties).reset_index().sort_values(by='days_since_fixture',ascending=False)"
   ]
  },
  {
   "cell_type": "code",
   "execution_count": 42,
   "id": "4598ba3f-cb51-461d-b630-f4a758cedc26",
   "metadata": {},
   "outputs": [],
   "source": [
    "combined_difficulties['gw'] = combined_difficulties.groupby('team').days_since_fixture.cumcount() +1 + CURRENT_GAMEWEEK"
   ]
  },
  {
   "cell_type": "code",
   "execution_count": 43,
   "id": "daec4e2c-c8f7-4864-a703-9ad5ab01f3c8",
   "metadata": {},
   "outputs": [],
   "source": [
    "score_pivot = pd.pivot_table(data=combined_difficulties,values='score',\n",
    "                             index='team',columns='gw')"
   ]
  },
  {
   "cell_type": "code",
   "execution_count": 44,
   "id": "af25eb58-bba7-4862-a04f-3d34b2431512",
   "metadata": {},
   "outputs": [],
   "source": [
    "defend_pivot = pd.pivot_table(data=combined_difficulties,values='opp_score',\n",
    "                              index='team',columns='gw')"
   ]
  },
  {
   "cell_type": "code",
   "execution_count": null,
   "id": "d095948f-6f60-4af0-9e25-2fda92584c58",
   "metadata": {},
   "outputs": [],
   "source": [
    "elo_pivot = pd.pivot_table(data=combined_difficulties,values='elo_win',\n",
    "                              index='team',columns='gw')"
   ]
  },
  {
   "cell_type": "markdown",
   "id": "62628160-e4fc-493b-9a95-3e213da20f97",
   "metadata": {},
   "source": [
    "Filter the data for the next n weeks"
   ]
  },
  {
   "cell_type": "code",
   "execution_count": null,
   "id": "429e21da-e257-4c12-bff1-44dc655bf332",
   "metadata": {},
   "outputs": [],
   "source": [
    "N = 5"
   ]
  },
  {
   "cell_type": "code",
   "execution_count": null,
   "id": "7c9a5f91-8f11-4be2-8235-03d1e1cc81e0",
   "metadata": {},
   "outputs": [],
   "source": [
    "for outcome in ['score','opp_score','elo_win']:\n",
    "    print(outcome)\n",
    "    pivot = pd.pivot_table(data=combined_difficulties,values=outcome,\n",
    "                             index='team',columns='gw')\n",
    "    n_week = pivot.iloc[:,:N].copy()\n",
    "    n_week['avg'] = n_week.mean(axis=1)\n",
    "    sort_dir = outcome == 'opp_score'\n",
    "    display(n_week\n",
    "     .sort_values(by='avg',ascending=sort_dir) \n",
    "     .style.background_gradient(cmap='Blues'))"
   ]
  },
  {
   "cell_type": "code",
   "execution_count": null,
   "id": "ad886a1e-5101-47ad-8c56-c0c03e4c7f54",
   "metadata": {},
   "outputs": [],
   "source": [
    "combined_difficulties.pivot(index='team',columns='gw',values='opp').iloc[:,:N]"
   ]
  }
 ],
 "metadata": {
  "kernelspec": {
   "display_name": "Python 3",
   "language": "python",
   "name": "python3"
  },
  "language_info": {
   "codemirror_mode": {
    "name": "ipython",
    "version": 3
   },
   "file_extension": ".py",
   "mimetype": "text/x-python",
   "name": "python",
   "nbconvert_exporter": "python",
   "pygments_lexer": "ipython3",
   "version": "3.8.5"
  }
 },
 "nbformat": 4,
 "nbformat_minor": 5
}
